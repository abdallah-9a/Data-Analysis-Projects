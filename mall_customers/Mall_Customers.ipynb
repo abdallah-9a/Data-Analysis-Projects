{
 "cells": [
  {
   "cell_type": "markdown",
   "metadata": {},
   "source": [
    "## Libraries\n"
   ]
  },
  {
   "cell_type": "code",
   "execution_count": null,
   "metadata": {},
   "outputs": [],
   "source": [
    "import pandas as pd\n",
    "import numpy as np\n",
    "import matplotlib.pyplot as plt\n",
    "import seaborn as sns"
   ]
  },
  {
   "cell_type": "markdown",
   "metadata": {},
   "source": [
    "### Function\n"
   ]
  },
  {
   "cell_type": "code",
   "execution_count": null,
   "metadata": {},
   "outputs": [],
   "source": [
    "# Remove Outliers\n",
    "def remove_outliers(df, col):\n",
    "    Q1 = np.quantile(df[col], 0.25)\n",
    "    Q3 = np.quantile(df[col], 0.75)\n",
    "    IQR = Q3 - Q1\n",
    "    lower_bound = Q1 - IQR * 1.5\n",
    "    upper_bound = Q3 + IQR * 1.5\n",
    "    return df[(df[col] >= lower_bound) & (df[col] <= upper_bound)]"
   ]
  },
  {
   "cell_type": "markdown",
   "metadata": {},
   "source": [
    "Import Data\n"
   ]
  },
  {
   "cell_type": "code",
   "execution_count": null,
   "metadata": {},
   "outputs": [],
   "source": [
    "# Load dataset\n",
    "data = pd.read_csv(\"Mall_Customers.csv\")"
   ]
  },
  {
   "cell_type": "markdown",
   "metadata": {},
   "source": [
    "Explore Data\n"
   ]
  },
  {
   "cell_type": "code",
   "execution_count": null,
   "metadata": {},
   "outputs": [],
   "source": [
    "data.head()"
   ]
  },
  {
   "cell_type": "code",
   "execution_count": null,
   "metadata": {},
   "outputs": [],
   "source": [
    "data.tail()"
   ]
  },
  {
   "cell_type": "code",
   "execution_count": null,
   "metadata": {},
   "outputs": [],
   "source": [
    "data.describe()"
   ]
  },
  {
   "cell_type": "code",
   "execution_count": null,
   "metadata": {},
   "outputs": [],
   "source": [
    "data.dtypes"
   ]
  },
  {
   "cell_type": "markdown",
   "metadata": {},
   "source": [
    "Cleaning of the Data\n"
   ]
  },
  {
   "cell_type": "code",
   "execution_count": null,
   "metadata": {},
   "outputs": [],
   "source": [
    "# Columns names need some changes\n",
    "data.rename(\n",
    "    columns={\n",
    "        \"CustomerID\": \"customer_id\",\n",
    "        \"Age\": \"age\",\n",
    "        \"Gender\": \"gender\",\n",
    "        \"Annual Income (k$)\": \"annual_income\",\n",
    "        \"Spending Score (1-100)\": \"spending_score\",\n",
    "    },\n",
    "    inplace=True,  # to replace new names into Dataset\n",
    ")\n",
    "# convert income from k$  to $\n",
    "data[\"annual_income\"] = data[\"annual_income\"] * 1000"
   ]
  },
  {
   "cell_type": "code",
   "execution_count": null,
   "metadata": {},
   "outputs": [],
   "source": [
    "data.info()"
   ]
  },
  {
   "cell_type": "code",
   "execution_count": null,
   "metadata": {},
   "outputs": [],
   "source": [
    "# Check for outliers\n",
    "sns.boxplot(data = data,x= 'gender',y='annual_income')\n",
    "print(f'M Mean = {data[data['gender'] == 'Male']['annual_income'].mean()}')\n",
    "print(f'F Mean = {data[data['gender'] == 'Female']['annual_income'].mean()}')\n",
    "plt.show()"
   ]
  },
  {
   "cell_type": "code",
   "execution_count": null,
   "metadata": {},
   "outputs": [],
   "source": [
    "sns.kdeplot(data, x=\"annual_income\")\n",
    "plt.show()"
   ]
  },
  {
   "cell_type": "markdown",
   "metadata": {},
   "source": [
    "AS data are normally distribted and number of outliers is tiny, so I decided to keep them because they have meaningful meaning and small impact on insights\n"
   ]
  },
  {
   "cell_type": "code",
   "execution_count": null,
   "metadata": {},
   "outputs": [],
   "source": [
    "# Check for outliers\n",
    "sns.boxplot(data = data,x= 'gender',y='spending_score')\n",
    "print(f'M Mean = {data[data['gender'] == 'Male']['spending_score'].mean()}')\n",
    "print(f'F Mean = {data[data['gender'] == 'Female']['spending_score'].mean()}')"
   ]
  },
  {
   "cell_type": "markdown",
   "metadata": {},
   "source": [
    "### Visualization to investigate meaningful insights\n"
   ]
  },
  {
   "cell_type": "code",
   "execution_count": null,
   "metadata": {},
   "outputs": [],
   "source": [
    "sns.pairplot(data)\n",
    "plt.show()"
   ]
  },
  {
   "cell_type": "code",
   "execution_count": null,
   "metadata": {},
   "outputs": [],
   "source": [
    "sns.countplot(data=data, x=\"gender\")\n",
    "print(data[\"gender\"].value_counts())\n",
    "plt.show()"
   ]
  },
  {
   "cell_type": "code",
   "execution_count": null,
   "metadata": {},
   "outputs": [],
   "source": [
    "# Age Distribution\n",
    "sns.kdeplot(data, x=\"age\")\n",
    "plt.show()"
   ]
  },
  {
   "cell_type": "markdown",
   "metadata": {},
   "source": [
    "Classify Age to be easy in Visualization\n"
   ]
  },
  {
   "cell_type": "code",
   "execution_count": null,
   "metadata": {},
   "outputs": [],
   "source": [
    "np.sort(data[\"age\"].unique())"
   ]
  },
  {
   "cell_type": "code",
   "execution_count": null,
   "metadata": {},
   "outputs": [],
   "source": [
    "data[\"age\"].replace([x for x in range(18, 26)], \"18-25\", inplace=True)\n",
    "data[\"age\"].replace([x for x in range(26, 36)], \"26-35\", inplace=True)\n",
    "data[\"age\"].replace([x for x in range(36, 46)], \"36-45\", inplace=True)\n",
    "data[\"age\"].replace([x for x in range(46, 56)], \"46-55\", inplace=True)\n",
    "data[\"age\"].replace([x for x in range(56, 71)], \"55+\", inplace=True)"
   ]
  },
  {
   "cell_type": "code",
   "execution_count": null,
   "metadata": {},
   "outputs": [],
   "source": [
    "sns.countplot(data, x=\"age\")\n",
    "plt.show()"
   ]
  },
  {
   "cell_type": "markdown",
   "metadata": {},
   "source": [
    "Investigation of Annual Income\n"
   ]
  },
  {
   "cell_type": "code",
   "execution_count": null,
   "metadata": {},
   "outputs": [],
   "source": [
    "sns.kdeplot(data, x=\"annual_income\")\n",
    "plt.xlabel(\"Annual Income\")\n",
    "plt.title(\"Annual Income Distribution\")\n",
    "plt.show()"
   ]
  },
  {
   "cell_type": "code",
   "execution_count": null,
   "metadata": {},
   "outputs": [],
   "source": [
    "sns.barplot(data, x=\"age\", y=\"annual_income\")\n",
    "plt.xlabel(\"Age\")\n",
    "plt.ylabel(\"Annual Income\")\n",
    "plt.title(\"Annual Income Distribution by Age Group\")\n",
    "\n",
    "\n",
    "plt.show()"
   ]
  },
  {
   "cell_type": "code",
   "execution_count": null,
   "metadata": {},
   "outputs": [],
   "source": [
    "sns.barplot(data=data, x=\"gender\", y=\"annual_income\", estimator=\"mean\")\n",
    "print(data.groupby(\"gender\")[\"annual_income\"].mean())\n",
    "plt.xlabel(\"Gender\")\n",
    "plt.ylabel(\"Annual Income\")\n",
    "plt.title(\"Annual Income Distribution by Gender\")\n",
    "plt.show()"
   ]
  },
  {
   "cell_type": "code",
   "execution_count": null,
   "metadata": {},
   "outputs": [],
   "source": [
    "sns.scatterplot(data, x=\"spending_score\", y=\"annual_income\", hue=\"gender\")\n",
    "plt.xlabel(\"Spending Score\")\n",
    "plt.ylabel(\"Annual Income\")\n",
    "plt.title(\"Distribution of Annual Income & Spending Score\")\n",
    "plt.legend()\n",
    "plt.show()"
   ]
  },
  {
   "cell_type": "markdown",
   "metadata": {},
   "source": [
    "Investigation of Spending Score Column\n"
   ]
  },
  {
   "cell_type": "code",
   "execution_count": null,
   "metadata": {},
   "outputs": [],
   "source": [
    "sns.kdeplot(data, x=\"spending_score\")\n",
    "plt.xlabel(\"Spending Score\")\n",
    "plt.title(\"Spending Score Distribution\")\n",
    "plt.show()"
   ]
  },
  {
   "cell_type": "code",
   "execution_count": null,
   "metadata": {},
   "outputs": [],
   "source": [
    "sns.barplot(data, x=\"age\", y=\"spending_score\")\n",
    "plt.xlabel(\"Age\")\n",
    "plt.ylabel(\"Spending Score\")\n",
    "plt.title(\"spending score Distribution by Age Group\")\n",
    "\n",
    "\n",
    "plt.show()"
   ]
  },
  {
   "cell_type": "code",
   "execution_count": null,
   "metadata": {},
   "outputs": [],
   "source": [
    "sns.barplot(data = data,x = 'gender',y = 'spending_score',estimator='mean')\n",
    "print(f'{data.groupby('gender')['spending_score'].mean()}')\n",
    "plt.xlabel('Gender')\n",
    "plt.ylabel('Spending Score')\n",
    "plt.title('Spending Score Distribution by Gender')\n",
    "plt.show()"
   ]
  }
 ],
 "metadata": {
  "kernelspec": {
   "display_name": "base",
   "language": "python",
   "name": "python3"
  },
  "language_info": {
   "codemirror_mode": {
    "name": "ipython",
    "version": 3
   },
   "file_extension": ".py",
   "mimetype": "text/x-python",
   "name": "python",
   "nbconvert_exporter": "python",
   "pygments_lexer": "ipython3",
   "version": "3.12.4"
  }
 },
 "nbformat": 4,
 "nbformat_minor": 2
}
